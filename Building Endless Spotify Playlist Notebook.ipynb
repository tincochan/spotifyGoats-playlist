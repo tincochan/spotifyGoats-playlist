{
 "cells": [
  {
   "cell_type": "code",
   "execution_count": null,
   "metadata": {},
   "outputs": [],
   "source": [
    "import spotipy\n",
    "import pandas as pd\n",
    "import numpy as np\n",
    "import requests\n",
    "from spotipy import oauth2\n",
    "\n",
    "SPOTIPY_CLIENT_ID = 'YOUR CLIENT ID'\n",
    "SPOTIPY_CLIENT_SECRET = 'YOUR CLIENT SECRET'\n",
    "SCOPE = ('user-read-recently-played,user-library-read,user-read-currently-playing,playlist-read-private,playlist-modify-private,playlist-modify-public,user-read-email,user-modify-playback-state,streaming,app-remote-control,user-read-private,user-read-playback-state')\n",
    "SPOTIPY_REDIRECT_URI = 'YOUR REDIRECT URI'\n",
    "sp_oauth = oauth2.SpotifyOAuth( SPOTIPY_CLIENT_ID, SPOTIPY_CLIENT_SECRET,SPOTIPY_REDIRECT_URI,scope=SCOPE )\n"
   ]
  },
  {
   "cell_type": "code",
   "execution_count": null,
   "metadata": {},
   "outputs": [],
   "source": [
    "#browser will open and you have to copy and paste the url after clicking \"Accept\"\n",
    "code = sp_oauth.get_auth_response(open_browser=True)\n",
    "token = sp_oauth.get_access_token(code)\n",
    "refresh_token = token['refresh_token']\n",
    "sp = spotipy.Spotify(auth=token['access_token'])\n",
    "username = sp.current_user()['id']"
   ]
  },
  {
   "cell_type": "code",
   "execution_count": null,
   "metadata": {},
   "outputs": [],
   "source": [
    "#create playlist and save playlist id\n",
    "pl_name = 'myEndlessPlaylist1'\n",
    "result = sp.user_playlist_create(username, name=pl_name)\n",
    "pl_id = result['id']"
   ]
  },
  {
   "cell_type": "code",
   "execution_count": null,
   "metadata": {},
   "outputs": [],
   "source": [
    "#ID for the public spotify playlist we're getting all the albums from \n",
    "top_album_pl = '70n5zfYco8wG777Ua2LlNv'\n",
    "\n",
    "#top_albums is list we'll use to make the top albums playlist\n",
    "top_albums = []\n",
    "offset = 0\n",
    "while True:\n",
    "    response = sp.playlist_items(top_album_pl,\n",
    "                                 offset=offset)\n",
    "    \n",
    "    if len(response['items']) == 0:\n",
    "        break\n",
    "    top_albums +=response['items']\n",
    "    offset = offset + len(response['items'])"
   ]
  },
  {
   "cell_type": "code",
   "execution_count": null,
   "metadata": {},
   "outputs": [],
   "source": [
    "#Here we make a DataFrame of all the top albums by looping through that list of response of dictionaries\n",
    "album_df = []\n",
    "for album in top_albums:\n",
    "    \n",
    "    track = album['track']['name']\n",
    "    artist = album['track']['artists'][0]['name']\n",
    "    album_name = album['track']['album']['name']\n",
    "    track_id = album['track']['id']\n",
    "    album_id = album['track']['album']['id']\n",
    "    album_df.append([track,artist,album_name, track_id,album_id])\n",
    "album_df = pd.DataFrame(album_df, columns =['track','artist','album','track_id','album_id'])"
   ]
  },
  {
   "cell_type": "code",
   "execution_count": null,
   "metadata": {},
   "outputs": [],
   "source": [
    "\n",
    "#random seed so others can get the same album order as me\n",
    "np.random.seed(10)\n",
    "\n",
    "#make a DataFrame of all albums and add a random number between 0-1 \"rand_key\" for each album\n",
    "all_albums = album_df.drop_duplicates('album_id').album_id\n",
    "all_albums = pd.DataFrame(all_albums).reset_index(drop=True)\n",
    "all_albums['rand_key'] = np.random.rand(len(all_albums))\n",
    "\n",
    "#merge the albums DataFrame back with the full top albums DataFrame\n",
    "album_df = pd.merge(album_df, all_albums, how='inner', on='album_id')\n",
    "\n",
    "#sort by the rand_key (and by index so the songs within albums stay in order)\n",
    "album_df['idx'] = album_df.index\n",
    "album_df = album_df.sort_values(['rand_key','idx']).reset_index(drop=True)\n",
    "\n",
    "#run the code below to exclude one-track albums\n",
    "album_df_piv = pd.pivot_table(album_df, index='album_id',values='track_id',aggfunc='count')\n",
    "album_df_piv.columns = ['num_tracks']\n",
    "album_df = pd.merge(album_df, album_df_piv, how='left',left_on='album_id',right_index=True)\n",
    "album_df = album_df[album_df.num_tracks>1].reset_index(drop=True)\n",
    "\n",
    "album_df['idx'] = album_df.index\n",
    "\n",
    "#do some data cleaning (getting rid of quotes, backslashes) so it will play nice \n",
    "album_df.loc[(album_df['track'].str.contains('\"')),'track'] = album_df.track.str.replace('\"','')\n",
    "album_df.loc[(album_df['artist'].str.contains('\"')),'artist'] = album_df.artist.str.replace('\"','')\n",
    "album_df.loc[(album_df['album'].str.contains('\"')),'album'] = album_df.album.str.replace('\"','')\n",
    "album_df.loc[(album_df['track'].str.contains(r\"\\\\\")),'track'] = album_df.track.str.replace('\\\\','')\n",
    "\n",
    "#copy this album df to your clipboard to paste into google sheets or elsewhere.\n",
    "album_df.to_clipboard(index=False)"
   ]
  },
  {
   "cell_type": "code",
   "execution_count": null,
   "metadata": {},
   "outputs": [],
   "source": [
    "#initialize playlist of length 30\n",
    "pl_length = 30\n",
    "last_tracks_added = album_df.loc[0:pl_length-1]\n",
    "tracks_to_add = last_tracks_added.track_id.tolist()\n",
    "sp.playlist_add_items(pl_id,tracks_to_add )"
   ]
  }
 ],
 "metadata": {
  "kernelspec": {
   "display_name": "Python 3",
   "language": "python",
   "name": "python3"
  },
  "language_info": {
   "codemirror_mode": {
    "name": "ipython",
    "version": 3
   },
   "file_extension": ".py",
   "mimetype": "text/x-python",
   "name": "python",
   "nbconvert_exporter": "python",
   "pygments_lexer": "ipython3",
   "version": "3.7.1"
  }
 },
 "nbformat": 4,
 "nbformat_minor": 2
}
